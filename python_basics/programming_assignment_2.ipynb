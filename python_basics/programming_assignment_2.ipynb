{
 "cells": [
  {
   "cell_type": "markdown",
   "id": "c43ae4c4",
   "metadata": {},
   "source": [
    "### 1. Write a Python program to convert kilometers to miles?"
   ]
  },
  {
   "cell_type": "code",
   "execution_count": 1,
   "id": "6b45a455",
   "metadata": {},
   "outputs": [
    {
     "data": {
      "text/plain": [
       "6.25"
      ]
     },
     "execution_count": 1,
     "metadata": {},
     "output_type": "execute_result"
    }
   ],
   "source": [
    "# 1 km  = (1 / 1.6) miles\n",
    "\n",
    "def km2mile(val: float) -> float:\n",
    "    return (val/1.6)\n",
    "\n",
    "km2mile(10)"
   ]
  },
  {
   "cell_type": "markdown",
   "id": "8ef8e119",
   "metadata": {},
   "source": [
    "### 2. Write a Python program to convert Celsius to Fahrenheit?"
   ]
  },
  {
   "cell_type": "code",
   "execution_count": 2,
   "id": "1caafb14",
   "metadata": {},
   "outputs": [
    {
     "data": {
      "text/plain": [
       "33.8"
      ]
     },
     "execution_count": 2,
     "metadata": {},
     "output_type": "execute_result"
    }
   ],
   "source": [
    "# (0°C × 9/5) + 32 = 32°F\n",
    "\n",
    "def celsius2fahrenheit(val : float) -> float:\n",
    "    return (val * (9/5)) + 32\n",
    "\n",
    "celsius2fahrenheit(1)"
   ]
  },
  {
   "cell_type": "markdown",
   "id": "e6be5c4a",
   "metadata": {},
   "source": [
    "### 3. Write a Python program to display calendar?"
   ]
  },
  {
   "cell_type": "code",
   "execution_count": 3,
   "id": "2053f625",
   "metadata": {},
   "outputs": [
    {
     "name": "stdout",
     "output_type": "stream",
     "text": [
      "     July 2022\n",
      "Mo Tu We Th Fr Sa Su\n",
      "             1  2  3\n",
      " 4  5  6  7  8  9 10\n",
      "11 12 13 14 15 16 17\n",
      "18 19 20 21 22 23 24\n",
      "25 26 27 28 29 30 31\n",
      "\n"
     ]
    }
   ],
   "source": [
    "import calendar\n",
    "from datetime import datetime\n",
    "\n",
    "today = datetime.today()\n",
    "mm = today.month\n",
    "yy = today.year\n",
    "\n",
    "print(calendar.month(yy, mm))"
   ]
  },
  {
   "cell_type": "markdown",
   "id": "0d3095c3",
   "metadata": {},
   "source": [
    "### 4. Write a Python program to solve quadratic equation?"
   ]
  },
  {
   "cell_type": "code",
   "execution_count": 4,
   "id": "d24e62e9",
   "metadata": {},
   "outputs": [
    {
     "data": {
      "text/plain": [
       "(2.618, 0.382)"
      ]
     },
     "execution_count": 4,
     "metadata": {},
     "output_type": "execute_result"
    }
   ],
   "source": [
    "import math\n",
    "\n",
    "def solve_equation(a, b, c):\n",
    "    root1 = round((-b + math.sqrt(b**2 - (4*a*c))) / (2*a),3)\n",
    "    root2 = round((-b - math.sqrt(b**2 - (4*a*c))) / (2*a),3)\n",
    "    return root1, root2\n",
    "\n",
    "solve_equation(1, -3, 1)"
   ]
  },
  {
   "cell_type": "markdown",
   "id": "d558cd59",
   "metadata": {},
   "source": [
    "### 5. Write a Python program to swap two variables without temp variable?"
   ]
  },
  {
   "cell_type": "code",
   "execution_count": 5,
   "id": "40aaa824",
   "metadata": {},
   "outputs": [
    {
     "name": "stdout",
     "output_type": "stream",
     "text": [
      "Before swap a=5, b=7\n",
      "After swap a=7, b=5\n"
     ]
    }
   ],
   "source": [
    "a = 5\n",
    "b = 7\n",
    "\n",
    "def swap(a, b):\n",
    "    b = a + b\n",
    "    a = b - a\n",
    "    b = b - a\n",
    "    return a, b\n",
    "\n",
    "\n",
    "print(f'Before swap a={a}, b={b}')\n",
    "a, b = swap(a, b)\n",
    "print(f'After swap a={a}, b={b}')\n"
   ]
  }
 ],
 "metadata": {
  "kernelspec": {
   "display_name": "Python 3 (ipykernel)",
   "language": "python",
   "name": "python3"
  },
  "language_info": {
   "codemirror_mode": {
    "name": "ipython",
    "version": 3
   },
   "file_extension": ".py",
   "mimetype": "text/x-python",
   "name": "python",
   "nbconvert_exporter": "python",
   "pygments_lexer": "ipython3",
   "version": "3.8.2"
  }
 },
 "nbformat": 4,
 "nbformat_minor": 5
}
