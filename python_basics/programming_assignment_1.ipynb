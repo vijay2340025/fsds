{
 "cells": [
  {
   "cell_type": "markdown",
   "id": "f8d8b5cc",
   "metadata": {},
   "source": [
    "#### 1. Write a Python program to print &quot;Hello Python&quot;?"
   ]
  },
  {
   "cell_type": "code",
   "execution_count": 1,
   "id": "460e6c7f",
   "metadata": {},
   "outputs": [
    {
     "name": "stdout",
     "output_type": "stream",
     "text": [
      "Hello Python\n"
     ]
    }
   ],
   "source": [
    "print('Hello Python')"
   ]
  },
  {
   "cell_type": "markdown",
   "id": "51f8efca",
   "metadata": {},
   "source": [
    "#### 2. Write a Python program to do arithmetical operations addition and division.?"
   ]
  },
  {
   "cell_type": "code",
   "execution_count": 2,
   "id": "3b48d050",
   "metadata": {},
   "outputs": [
    {
     "name": "stdout",
     "output_type": "stream",
     "text": [
      "11\n",
      "3\n"
     ]
    }
   ],
   "source": [
    "def add(a, b):\n",
    "    return a+b\n",
    "\n",
    "def div(a, b):\n",
    "    return a-b\n",
    "\n",
    "print(add(5, 6))\n",
    "print(div(6, 3))"
   ]
  },
  {
   "cell_type": "markdown",
   "id": "39a0b67e",
   "metadata": {},
   "source": [
    "#### 3. Write a Python program to find the area of a triangle?"
   ]
  },
  {
   "cell_type": "code",
   "execution_count": 4,
   "id": "bdd17c16",
   "metadata": {},
   "outputs": [
    {
     "data": {
      "text/plain": [
       "13905.5"
      ]
     },
     "execution_count": 4,
     "metadata": {},
     "output_type": "execute_result"
    }
   ],
   "source": [
    "def area_of_triangle(h, b):\n",
    "    return (b * h) / 2\n",
    "\n",
    "area_of_triangle(203, 137)"
   ]
  },
  {
   "cell_type": "markdown",
   "id": "9cb98913",
   "metadata": {},
   "source": [
    "#### 4. Write a Python program to swap two variables?"
   ]
  },
  {
   "cell_type": "code",
   "execution_count": 6,
   "id": "88addf1b",
   "metadata": {},
   "outputs": [
    {
     "name": "stdout",
     "output_type": "stream",
     "text": [
      "Before swap a=5, b=7\n",
      "After swap a=7, b=5\n"
     ]
    }
   ],
   "source": [
    "def swap(a, b):\n",
    "    return b, a\n",
    "\n",
    "a = 5\n",
    "b = 7\n",
    "print(f'Before swap a={a}, b={b}')\n",
    "a, b = swap(a, b)\n",
    "print(f'After swap a={a}, b={b}')"
   ]
  },
  {
   "cell_type": "markdown",
   "id": "d8d4c9dd",
   "metadata": {},
   "source": [
    "#### 5. Write a Python program to generate a random number?"
   ]
  },
  {
   "cell_type": "code",
   "execution_count": 19,
   "id": "441d6a06",
   "metadata": {},
   "outputs": [
    {
     "data": {
      "text/plain": [
       "[5, 10, 9, 3, 6]"
      ]
     },
     "execution_count": 19,
     "metadata": {},
     "output_type": "execute_result"
    }
   ],
   "source": [
    "import random\n",
    "\n",
    "def generate_random(nums=1):\n",
    "    result = []\n",
    "    for i in range(nums):\n",
    "        result.append(random.randint(1, 10))\n",
    "        \n",
    "    return result\n",
    "        \n",
    "generate_random(5)"
   ]
  }
 ],
 "metadata": {
  "kernelspec": {
   "display_name": "Python 3 (ipykernel)",
   "language": "python",
   "name": "python3"
  },
  "language_info": {
   "codemirror_mode": {
    "name": "ipython",
    "version": 3
   },
   "file_extension": ".py",
   "mimetype": "text/x-python",
   "name": "python",
   "nbconvert_exporter": "python",
   "pygments_lexer": "ipython3",
   "version": "3.8.2"
  }
 },
 "nbformat": 4,
 "nbformat_minor": 5
}
